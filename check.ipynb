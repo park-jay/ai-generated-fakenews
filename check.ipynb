{
 "cells": [
  {
   "cell_type": "code",
   "execution_count": 1,
   "metadata": {},
   "outputs": [],
   "source": [
    "import pandas as pd\n",
    "import ollama\n",
    "import os\n",
    "from tqdm import tqdm\n",
    "import time"
   ]
  },
  {
   "cell_type": "code",
   "execution_count": 2,
   "metadata": {},
   "outputs": [
    {
     "data": {
      "text/plain": [
       "37554"
      ]
     },
     "execution_count": 2,
     "metadata": {},
     "output_type": "execute_result"
    }
   ],
   "source": [
    "len(os.listdir('/Volumes/T7/WKWSCI-dataset/Article-Bias-Prediction/data/jsons'))"
   ]
  },
  {
   "cell_type": "code",
   "execution_count": 3,
   "metadata": {},
   "outputs": [],
   "source": [
    "articles=[]\n",
    "for json in os.listdir('/Volumes/T7/WKWSCI-dataset/Article-Bias-Prediction/data/jsons'):\n",
    "    articles.append(pd.read_json('/Volumes/T7/WKWSCI-dataset/Article-Bias-Prediction/data/jsons/' + json, orient='index').T)"
   ]
  },
  {
   "cell_type": "code",
   "execution_count": 4,
   "metadata": {},
   "outputs": [],
   "source": [
    "dataset=pd.concat(articles).reset_index()"
   ]
  },
  {
   "cell_type": "code",
   "execution_count": 5,
   "metadata": {},
   "outputs": [
    {
     "data": {
      "text/plain": [
       "bias\n",
       "2    13734\n",
       "0    13005\n",
       "1    10815\n",
       "Name: count, dtype: int64"
      ]
     },
     "execution_count": 5,
     "metadata": {},
     "output_type": "execute_result"
    }
   ],
   "source": [
    "dataset['bias'].value_counts()"
   ]
  },
  {
   "cell_type": "code",
   "execution_count": 6,
   "metadata": {},
   "outputs": [],
   "source": [
    "stopped=pd.read_csv('gen_wo_source-1.csv')"
   ]
  },
  {
   "cell_type": "code",
   "execution_count": 7,
   "metadata": {},
   "outputs": [
    {
     "data": {
      "text/plain": [
       "nan"
      ]
     },
     "execution_count": 7,
     "metadata": {},
     "output_type": "execute_result"
    }
   ],
   "source": [
    "stopped.iloc[12014]['gen_wo_source1']"
   ]
  },
  {
   "cell_type": "markdown",
   "metadata": {},
   "source": [
    "#### Without media information"
   ]
  },
  {
   "cell_type": "code",
   "execution_count": 8,
   "metadata": {},
   "outputs": [
    {
     "name": "stderr",
     "output_type": "stream",
     "text": [
      "100%|██████████| 25540/25540 [56:51:39<00:00,  8.01s/it]    \n"
     ]
    }
   ],
   "source": [
    "gen_wo_source1={}\n",
    "for idx in tqdm(range(12014, dataset.shape[0])):\n",
    "    response=ollama.chat(\n",
    "        model='llama3.1',\n",
    "        messages=[{'role': 'system',\n",
    "                  'content': 'Given a headline of news article, write a piece of news article based on the it regardless of what headline is.'},\n",
    "                  {'role':'user',\n",
    "                   'content': dataset.iloc[idx]['title']}\n",
    "        ]\n",
    "    )\n",
    "    gen_wo_source1[idx]=response['message']['content']\n",
    "    if (idx%1000==0) and (idx!=0):\n",
    "        time.sleep(300)"
   ]
  },
  {
   "cell_type": "code",
   "execution_count": 10,
   "metadata": {},
   "outputs": [],
   "source": [
    "dataset['gen_wo_source1']=dataset.index.map(gen_wo_source1)"
   ]
  },
  {
   "cell_type": "code",
   "execution_count": 34,
   "metadata": {},
   "outputs": [],
   "source": [
    "all.drop(columns=['index']).to_csv('../../data/ai-generated-fake-news/gen_wo_source-1.csv', index=False)"
   ]
  },
  {
   "cell_type": "code",
   "execution_count": 35,
   "metadata": {},
   "outputs": [],
   "source": [
    "all=pd.read_csv('../../data/ai-generated-fake-news/gen_wo_source-1.csv')"
   ]
  },
  {
   "cell_type": "code",
   "execution_count": null,
   "metadata": {},
   "outputs": [],
   "source": [
    "#Map the gen_wo_source1 to dataset dataframe"
   ]
  },
  {
   "cell_type": "markdown",
   "metadata": {},
   "source": [
    "#### With media information"
   ]
  },
  {
   "cell_type": "code",
   "execution_count": 100,
   "metadata": {},
   "outputs": [],
   "source": [
    "gen_w_source1={}\n",
    "for idx in tqdm(range(0, dataset.shape[0])):\n",
    "    response=ollama.chat(\n",
    "        model='llama3.1',\n",
    "        messages=[{'role': 'system',\n",
    "                  'content': 'Given a headline of news article published by {}, write a piece of news article.'.format(dataset.iloc[idx]['source'])},\n",
    "                  {'role':'user',\n",
    "                   'content': dataset.iloc[idx]['title']}\n",
    "        ]\n",
    "    )\n",
    "    gen_w_source1[idx]=response['message']['content']"
   ]
  }
 ],
 "metadata": {
  "kernelspec": {
   "display_name": "llama-parler",
   "language": "python",
   "name": "python3"
  },
  "language_info": {
   "codemirror_mode": {
    "name": "ipython",
    "version": 3
   },
   "file_extension": ".py",
   "mimetype": "text/x-python",
   "name": "python",
   "nbconvert_exporter": "python",
   "pygments_lexer": "ipython3",
   "version": "3.11.9"
  }
 },
 "nbformat": 4,
 "nbformat_minor": 2
}
